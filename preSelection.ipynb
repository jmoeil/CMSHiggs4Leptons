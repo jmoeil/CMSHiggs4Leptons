{
 "cells": [
  {
   "cell_type": "code",
   "execution_count": 1,
   "metadata": {},
   "outputs": [
    {
     "name": "stdout",
     "output_type": "stream",
     "text": [
      "Welcome to JupyROOT 6.26/06\n",
      "Number of entries:  119826\n"
     ]
    }
   ],
   "source": [
    "import os,sys, math, ROOT\n",
    "from array import array\n",
    "import numpy as np\n",
    "# %jsroot on\n",
    "\n",
    "#Importing a helper file where some functions are defined\n",
    "from helper import *\n",
    "\n",
    "#Input file\n",
    "inputfile = ROOT.TFile(\"../Data/MC_signal.root\",\"READ\")\n",
    "\n",
    "#Output file\n",
    "outputfile = ROOT.TFile(\"output.root\",\"RECREATE\")\n",
    "\n",
    "#Accessing the \"TTree\" from root that contains the data (one entry per event)\n",
    "tree = inputfile.Get(\"ntuplizer/tree\")\n",
    "\n",
    "nentries = tree.GetEntries()\n",
    "print(\"Number of entries: \", nentries)"
   ]
  },
  {
   "cell_type": "code",
   "execution_count": 2,
   "metadata": {},
   "outputs": [],
   "source": [
    "# preSelograms \n",
    "# The arguments are the following: \n",
    "# \"name\", \"title;x axis title;yaxis title\", nb of bins, min value, max value\n",
    "\n",
    "preSel_mass_2e2mu = ROOT.TH1F(\"preSel_mass_2e2mu\",\";Four Lepton Invariant Mass [GeV];Events\", 500, 0, 500)\n",
    "\n",
    "preSel_mass_2e = ROOT.TH1F(\"preSel_mass_2e\",\";Electron pair Invariant Mass [GeV];Events\", 500, 0, 500)\n",
    "preSel_mass_2mu = ROOT.TH1F(\"preSel_mass_2mu\",\";Muon pair Invariant Mass [GeV];Events\", 500, 0, 500)\n",
    "\n",
    "\n",
    "# Zoom in the low mass regions\n",
    "preSel_mass_2e2mu_zoom = ROOT.TH1F(\"preSel_mass_2e2mu_zoom\",\";Four Lepton Invariant Mass [GeV];Events\", 500, 70, 110)\n",
    "preSel_mass_2e2mu_zoom_b = ROOT.TH1F(\"preSel_mass_2e2mu_zoom_b\",\";Four Lepton Invariant Mass [GeV];Events\", 500, 80, 100)\n",
    "preSel_mass_2e_zoom = ROOT.TH1F(\"preSel_mass_2e_zoom\",\";Electron pair Invariant Mass [GeV];Events\", 500, 80, 100)\n",
    "preSel_mass_2mu_zoom = ROOT.TH1F(\"preSel_mass_2mu_zoom\",\";Muon pair Invariant Mass [GeV];Events\", 500, 80, 100)\n",
    "\n",
    "preSel_mass_2e2mu_ZoomExtra = ROOT.TH1F(\"preSel_mass_2e2mu_ZoomExtra\",\";Four Lepton Invariant Mass [GeV];Events\", 500, 0, 10)\n",
    "preSel_mass_2e_ZoomExtra = ROOT.TH1F(\"preSel_mass_2e_ZoomExtra\",\";Muon pair Invariant Mass [GeV];Events\", 300, 0, 10)\n",
    "preSel_mass_2mu_ZoomExtra = ROOT.TH1F(\"preSel_mass_2mu_ZoomExtra\",\";Muon pair Invariant Mass [GeV];Events\", 500, 0, 10)\n",
    "\n",
    "# Correlation between m(z) and m(z tilde)\n",
    "# The arguments are the following:\n",
    "# \"name\",\"title;x axis title;y axis title\",nb x bins,min x value, max x value, nb y bins, min y value, max y value\n",
    "preSel_2Dcorr_real_masses = ROOT.TH2F('preSel_2Dcorr_real_masses',\";Mass Z boson [GeV];Mass Z' boson [GeV]\",500,0,500, 100, 10, 200)\n",
    "preSel_2Dcorr_z_masses = ROOT.TH2F('preSel_2Dcorr_z_masses',\";Mass Z boson [GeV];Mass virtual Z boson [GeV]\",500,0,200, 100, 10, 200)\n",
    "preSel_2Dcorr_zreal_4l_masses = ROOT.TH2F('preSel_2Dcorr_zreal_4l_masses',\";Four Lepton Invariant Mass [GeV];Mass Z boson [GeV]\",500,0,500, 100, 10, 200)\n",
    "preSel_2Dcorr_zvirtual_4l_masses = ROOT.TH2F('preSel_2Dcorr_zvirtual_4l_masses',\";Four Lepton Invariant Mass [GeV];Mass virtual Z boson [GeV]\",500,10,500, 100, 10, 200)\n",
    "\n",
    "# pT values based on their values\n",
    "\n",
    "preSel_pt_leading = ROOT.TH1F(\"preSel_pt_leading\",\";Leading pT [GeV];Events\", 500, 0, 300)\n",
    "preSel_pt_sub1leading = ROOT.TH1F(\"preSel_pt_sub1leading\",\";First subleading pT[GeV];Events\", 500, 0, 300)\n",
    "preSel_pt_sub2leading = ROOT.TH1F(\"preSel_pt_sub2leading\",\";Second subleading pT [GeV];Events\", 500, 0, 300)\n",
    "preSel_pt_sub3leading = ROOT.TH1F(\"preSel_pt_sub3leading\",\";Third subleading pT [GeV];Events\", 500, 0, 300)"
   ]
  },
  {
   "cell_type": "code",
   "execution_count": 3,
   "metadata": {},
   "outputs": [],
   "source": [
    "#Loop over entries\n",
    "#invariant_2e2u = np.array([])\n",
    "N = 0\n",
    "for i in range(0,nentries):\n",
    "    tree.GetEntry(i) # Load entry number i\n",
    "    n_e,n_mu_minus,n_mu_p,n_p = 0,0,0,0   \n",
    "    for lep in range(0,len(tree._lPt)): # Loop over leptons per event\n",
    "        if tree._lpdgId[lep] == 11 and n_e != 1: # Detect if lepton == electron\n",
    "                n_e += 1\n",
    "                Index_e = lep\n",
    "        elif tree._lpdgId[lep] == -11 and n_p != 1: # Detect if lepton == positron\n",
    "                n_p += 1\n",
    "                Index_p = lep\n",
    "        elif tree._lpdgId[lep] == 13 and n_mu_minus != 1: # Detect if lepton == muon-\n",
    "                n_mu_minus += 1\n",
    "                Index_mu_minus = lep\n",
    "        elif tree._lpdgId[lep] == -13 and n_mu_p != 1: # Detect if lepton == muon+\n",
    "                n_mu_p +=1\n",
    "                Index_mu_plus = lep\n",
    "        if (n_e,n_p,n_mu_p,n_mu_minus) == (1,1,1,1):\n",
    "            invariant_mass = invariantmass4l(tree,Index_e,Index_p,Index_mu_minus,Index_mu_plus)\n",
    "\n",
    "            invariant_mass_e = invariantmass2l(tree,Index_e,Index_p)\n",
    "            invariant_mass_mu = invariantmass2l(tree,Index_mu_minus,Index_mu_plus)\n",
    "\n",
    "            preSel_mass_2e2mu.Fill(invariant_mass)\n",
    "            preSel_mass_2e.Fill(invariant_mass_e)\n",
    "            preSel_mass_2mu.Fill(invariant_mass_mu)\n",
    "            N += 1\n",
    "\n",
    "                # invariant_2e2u = np.append(invariant_2e2u,invariant_mass)\n",
    "                #print(invariant_mass)\n",
    "                # preSel_mass_2e2mu_Higgs.Fill(invariant_mass)"
   ]
  },
  {
   "cell_type": "code",
   "execution_count": 4,
   "metadata": {},
   "outputs": [
    {
     "name": "stderr",
     "output_type": "stream",
     "text": [
      "Info in <TCanvas::Print>: pdf file pdfs/preSel_mass_2e2mu.pdf has been created\n",
      "Info in <TCanvas::Print>: pdf file pdfs/preSel_mass_2e.pdf has been created\n",
      "Info in <TCanvas::Print>: pdf file pdfs/preSel_mass_2mu.pdf has been created\n"
     ]
    }
   ],
   "source": [
    "savehisto(outputfile,preSel_mass_2e2mu,\"preSel_mass_2e2mu\",logy=True)\n",
    "savehisto(outputfile,preSel_mass_2e,\"preSel_mass_2e\",logy=True)\n",
    "savehisto(outputfile,preSel_mass_2mu,\"preSel_mass_2mu\",logy=True)"
   ]
  },
  {
   "cell_type": "code",
   "execution_count": 5,
   "metadata": {},
   "outputs": [
    {
     "data": {
      "text/plain": [
       "(44.58631682606446, 53426)"
      ]
     },
     "execution_count": 5,
     "metadata": {},
     "output_type": "execute_result"
    }
   ],
   "source": [
    "epsilon = N/nentries * 100\n",
    "epsilon,N"
   ]
  }
 ],
 "metadata": {
  "kernelspec": {
   "display_name": "Python 3",
   "language": "python",
   "name": "python3"
  },
  "language_info": {
   "codemirror_mode": {
    "name": "ipython",
    "version": 3
   },
   "file_extension": ".py",
   "mimetype": "text/x-python",
   "name": "python",
   "nbconvert_exporter": "python",
   "pygments_lexer": "ipython3",
   "version": "3.10.10"
  },
  "orig_nbformat": 4,
  "vscode": {
   "interpreter": {
    "hash": "bd385fe162c5ca0c84973b7dd5c518456272446b2b64e67c2a69f949ca7a1754"
   }
  }
 },
 "nbformat": 4,
 "nbformat_minor": 2
}
