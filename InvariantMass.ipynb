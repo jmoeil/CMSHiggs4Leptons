{
 "cells": [
  {
   "cell_type": "code",
   "execution_count": 1,
   "id": "frank-tooth",
   "metadata": {},
   "outputs": [
    {
     "name": "stdout",
     "output_type": "stream",
     "text": [
      "Welcome to JupyROOT 6.26/06\n",
      "Number of entries:  104317\n"
     ]
    }
   ],
   "source": [
    "import os,sys, math, ROOT\n",
    "from array import array\n",
    "import numpy as np\n",
    "# %jsroot on\n",
    "\n",
    "#Importing a helper file where some functions are defined\n",
    "from helper import *\n",
    "\n",
    "#Input file\n",
    "inputfile = ROOT.TFile(\"../Data/data.root\",\"READ\")\n",
    "\n",
    "#Output file\n",
    "outputfile = ROOT.TFile(\"output.root\",\"RECREATE\")\n",
    "\n",
    "#Accessing the \"TTree\" from root that contains the data (one entry per event)\n",
    "tree = inputfile.Get(\"ntuplizer/tree\")\n",
    "\n",
    "nentries = tree.GetEntries()\n",
    "print(\"Number of entries: \", nentries)"
   ]
  },
  {
   "cell_type": "code",
   "execution_count": 2,
   "id": "dietary-expense",
   "metadata": {},
   "outputs": [],
   "source": [
    "#Example of histograms \n",
    "#The arguments are the following: \n",
    "#\"name\", \"title;x axis title;yaxis title\", nb of bins, min value, max value\n",
    "\n",
    "# hist_npv = ROOT.TH1F(\"hist_NPV\", \"NPV;Number of reconstructed vertices;Events\", 100, 0, 100)\n",
    "# hist_n_e = ROOT.TH1F(\"hist_n_e\",  \";Number of electrons detected;Events\", 10, 0, 10)\n",
    "# hist_n_mu = ROOT.TH1F(\"hist_n_mu\",\";Number of muons dectected;Events\", 10, 0, 10)\n",
    "\n",
    "hist_massfourleptons = ROOT.TH1F(\"hist_massfourleptons\",\";Four Lepton Invariant Mass;Events\", 5000, 0, 500)"
   ]
  },
  {
   "cell_type": "code",
   "execution_count": 3,
   "id": "cutting-section",
   "metadata": {},
   "outputs": [],
   "source": [
    "#Loop over entries\n",
    "for i in range(0,nentries):\n",
    "    tree.GetEntry(i) # Load entry number i\n",
    "    n_e,n_mu_minus,n_mu_p,n_p = 0,0,0,0   \n",
    "\n",
    "    for lep in range(0,len(tree._lPt)): # Loop over leptons per event\n",
    "        if tree._lpdgId[lep] == 11 and n_e != 1: # Detect if lepton == electron\n",
    "            n_e += 1\n",
    "            Index_e = lep\n",
    "        elif tree._lpdgId[lep] == -11 and n_p != 1: # Detect if lepton == positron\n",
    "            n_p += 1\n",
    "            Index_p = lep\n",
    "        elif tree._lpdgId[lep] == 13 and n_mu_minus != 1: # Detect if lepton == muon-\n",
    "            n_mu_minus += 1\n",
    "            Index_mu_minus = lep\n",
    "        elif tree._lpdgId[lep] == -13 and n_mu_p != 1: # Detect if lepton == muon+\n",
    "            n_mu_p +=1\n",
    "            Index_mu_plus = lep\n",
    "        if (n_e,n_p,n_mu_minus,n_mu_p) == (1,1,1,1): # If all sought-after leptons are detected, break out of the loop\n",
    "            invariant_mass = invariantmass4l(tree,Index_e,Index_p,Index_mu_minus,Index_mu_plus)\n",
    "            hist_massfourleptons.Fill(invariant_mass)\n",
    "    "
   ]
  },
  {
   "attachments": {},
   "cell_type": "markdown",
   "id": "5ef010ae",
   "metadata": {},
   "source": [
    "Let us notice straight away there are close 47% more muons detected than electrons detected. *Does this mean that dectecting muons is statistically more interesting that counting electrons?*"
   ]
  },
  {
   "cell_type": "code",
   "execution_count": 4,
   "id": "blocked-benjamin",
   "metadata": {},
   "outputs": [
    {
     "name": "stderr",
     "output_type": "stream",
     "text": [
      "Info in <TCanvas::Print>: pdf file pdfs/hist_2e2mu_InvariantMass.pdf has been created\n"
     ]
    }
   ],
   "source": [
    "#Draw the histogram and the canvas\n",
    "c = ROOT.TCanvas(\"canvas\",\"c_NPV\",600,600)\n",
    "# hist_n_mu.SetLineColor(ROOT.kRed)\n",
    "# hist_n_e.Draw()\n",
    "# hist_n_mu.Draw(\"same\")\n",
    "# hist_npv.Draw()\n",
    "# c.Draw()\n",
    "# savehisto(outputfile, hist_n_mu, \"hist_n_mu_log\")\n",
    "# savehisto(outputfile,hist_n_e,\"hist_n_e_log\")\n",
    "\n",
    "savehisto(outputfile,hist_massfourleptons,\"hist_2e2mu_InvariantMass\",logy=True)"
   ]
  },
  {
   "attachments": {},
   "cell_type": "markdown",
   "id": "9f7cce68",
   "metadata": {},
   "source": [
    "For the duration of the internship, we shall only consider events involving 2 electrons and 2 muons. Hence, let us apply a filter and select only events for which there are at lea"
   ]
  }
 ],
 "metadata": {
  "kernelspec": {
   "display_name": "Python 3",
   "language": "python",
   "name": "python3"
  },
  "language_info": {
   "codemirror_mode": {
    "name": "ipython",
    "version": 3
   },
   "file_extension": ".py",
   "mimetype": "text/x-python",
   "name": "python",
   "nbconvert_exporter": "python",
   "pygments_lexer": "ipython3",
   "version": "3.10.10"
  },
  "vscode": {
   "interpreter": {
    "hash": "bd385fe162c5ca0c84973b7dd5c518456272446b2b64e67c2a69f949ca7a1754"
   }
  }
 },
 "nbformat": 4,
 "nbformat_minor": 5
}
