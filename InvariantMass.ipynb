{
 "cells": [
  {
   "cell_type": "code",
   "execution_count": 1,
   "id": "frank-tooth",
   "metadata": {},
   "outputs": [
    {
     "name": "stdout",
     "output_type": "stream",
     "text": [
      "Welcome to JupyROOT 6.26/06\n",
      "Number of entries:  104317\n"
     ]
    }
   ],
   "source": [
    "import os,sys, math, ROOT\n",
    "from array import array\n",
    "import numpy as np\n",
    "# %jsroot on\n",
    "\n",
    "#Importing a helper file where some functions are defined\n",
    "from helper import *\n",
    "\n",
    "#Input file\n",
    "inputfile = ROOT.TFile(\"../Data/data.root\",\"READ\")\n",
    "\n",
    "#Output file\n",
    "outputfile = ROOT.TFile(\"output.root\",\"RECREATE\")\n",
    "\n",
    "#Accessing the \"TTree\" from root that contains the data (one entry per event)\n",
    "tree = inputfile.Get(\"ntuplizer/tree\")\n",
    "\n",
    "nentries = tree.GetEntries()\n",
    "print(\"Number of entries: \", nentries)"
   ]
  },
  {
   "attachments": {},
   "cell_type": "markdown",
   "id": "a1f08a0f",
   "metadata": {},
   "source": [
    "The goal of this file is to create and then compare histograms of the invariant masses involved in the\n",
    "\\begin{equation}\n",
    "    H^0\\to l^+l^- + l'^+l'^-\n",
    "\\end{equation}\n",
    "process, where $l$ is taken to be either an electron or a muon.\n",
    "\n",
    "To better understand the result, we will also consider separately the following process\n",
    "\\begin{equation}\n",
    "    H^0\\to l^+l^-\n",
    "\\end{equation}"
   ]
  },
  {
   "attachments": {},
   "cell_type": "markdown",
   "id": "0cf6208d",
   "metadata": {},
   "source": [
    "The code snippet underneath defines several `histogram` objects. The name given to those objects follows the following logic:\n",
    "- `hist_mass` for the notion that the histogram will display the invariant mass of system of particles;\n",
    "- `_X` shows the type of particles detected from which we compute an invariant mass\n",
    "- The extra mention of `_zoom` or `_ZoomExtra` concerns the range on which the invariant mass is computed. `_zoom` means one computes and displays the invariant mass in the interval $[80,100] GeV$ whilst `_ZoomExtra` means the displayed interval is $[0,10] GeV$.\n",
    "- Additionnaly, the mention of `_Higgs` means one is trying to truncate the data to display only the process of interest to us: the apparition of the Higgs boson!"
   ]
  },
  {
   "cell_type": "code",
   "execution_count": 2,
   "id": "dietary-expense",
   "metadata": {},
   "outputs": [],
   "source": [
    "#Example of histograms \n",
    "#The arguments are the following: \n",
    "#\"name\", \"title;x axis title;yaxis title\", nb of bins, min value, max value\n",
    "\n",
    "hist_mass_2e2mu = ROOT.TH1F(\"hist_mass_2e2mu\",\";Four Lepton Invariant Mass [GeV];Events\", 500, 0, 500)\n",
    "hist_mass_2e = ROOT.TH1F(\"hist_mass_2e\",\";Electron pair Invariant Mass [GeV];Events\", 500, 0, 500)\n",
    "hist_mass_2mu = ROOT.TH1F(\"hist_mass_2mu\",\";Electron pair Invariant Mass [GeV];Events\", 500, 0, 500)\n",
    "\n",
    "\n",
    "# Zoom in the low mass regions\n",
    "hist_mass_2e2mu_zoom = ROOT.TH1F(\"hist_mass_2e2mu_zoom\",\";Four Lepton Invariant Mass [GeV];Events\", 500, 80, 100)\n",
    "hist_mass_2e_zoom = ROOT.TH1F(\"hist_mass_2e_zoom\",\";Electron pair Invariant Mass [GeV];Events\", 500, 80, 100)\n",
    "hist_mass_2mu_zoom = ROOT.TH1F(\"hist_mass_2mu_zoom\",\";Muon pair Invariant Mass [GeV];Events\", 500, 80, 100)\n",
    "\n",
    "hist_mass_2e2mu_ZoomExtra = ROOT.TH1F(\"hist_mass_2e2mu_ZoomExtra\",\";Four Lepton Invariant Mass [GeV];Events\", 500, 0, 10)\n",
    "hist_mass_2e_ZoomExtra = ROOT.TH1F(\"hist_mass_2e_ZoomExtra\",\";Electron pair Invariant Mass [GeV];Events\", 500, 0, 10)\n",
    "hist_mass_2mu_ZoomExtra = ROOT.TH1F(\"hist_mass_2mu_ZoomExtra\",\";Muon pair Invariant Mass [GeV];Events\", 500, 0, 10)\n",
    "\n",
    "# Zoom in the Higgs region\n",
    "# hist_mass_2e2mu_Higgs = ROOT.TH1F(\"hist_mass_2e2mu_Higgs\",\";Four Lepton Invariant Mass [GeV];Events\", 500, 100, 150)\n",
    "# hist_mass_2e_Higgs = ROOT.TH1F('hist_mass_2e_Higgs',\";Electron pair Invariant Mass [GeV];Events\",500,100,150)\n",
    "# hist_mass_2mu_Higgs = ROOT.TH1F('hist_mass_2mue_Higgs',\";Muon pair Invariant Mass [GeV];Events\",500,100,150)"
   ]
  },
  {
   "cell_type": "code",
   "execution_count": 3,
   "id": "cutting-section",
   "metadata": {},
   "outputs": [],
   "source": [
    "#Loop over entries\n",
    "invariant_2e2u = np.array([])\n",
    "for i in range(0,nentries):\n",
    "    tree.GetEntry(i) # Load entry number i\n",
    "    n_e,n_mu_minus,n_mu_p,n_p = 0,0,0,0   \n",
    "\n",
    "    for lep in range(0,len(tree._lPt)): # Loop over leptons per event\n",
    "        if tree._lpdgId[lep] == 11 and n_e != 1: # Detect if lepton == electron\n",
    "            n_e += 1\n",
    "            Index_e = lep\n",
    "        elif tree._lpdgId[lep] == -11 and n_p != 1: # Detect if lepton == positron\n",
    "            n_p += 1\n",
    "            Index_p = lep\n",
    "        elif tree._lpdgId[lep] == 13 and n_mu_minus != 1: # Detect if lepton == muon-\n",
    "            n_mu_minus += 1\n",
    "            Index_mu_minus = lep\n",
    "        elif tree._lpdgId[lep] == -13 and n_mu_p != 1: # Detect if lepton == muon+\n",
    "            n_mu_p +=1\n",
    "            Index_mu_plus = lep\n",
    "        if (n_e,n_p,n_mu_minus,n_mu_p) == (1,1,1,1): # If all sought-after leptons are detected, break out of the loop\n",
    "            invariant_mass = invariantmass4l(tree,Index_e,Index_p,Index_mu_minus,Index_mu_plus)\n",
    "            invariant_2e2u = np.append(invariant_2e2u,invariant_mass)\n",
    "            #print(invariant_mass)\n",
    "            hist_mass_2e2mu.Fill(invariant_mass)\n",
    "            # hist_mass_2e2mu_Higgs.Fill(invariant_mass)"
   ]
  },
  {
   "cell_type": "code",
   "execution_count": 4,
   "id": "blocked-benjamin",
   "metadata": {},
   "outputs": [
    {
     "name": "stderr",
     "output_type": "stream",
     "text": [
      "Info in <TCanvas::Print>: pdf file pdfs/hist_2e2mu_InvariantMass.pdf has been created\n"
     ]
    }
   ],
   "source": [
    "#Draw the histogram and the canvas\n",
    "c = ROOT.TCanvas(\"canvas\",\"c_NPV\",600,600)\n",
    "# hist_n_mu.SetLineColor(ROOT.kRed)\n",
    "# hist_n_e.Draw()\n",
    "# hist_n_mu.Draw(\"same\")\n",
    "# hist_npv.Draw()\n",
    "# c.Draw()\n",
    "# savehisto(outputfile, hist_n_mu, \"hist_n_mu_log\")\n",
    "# savehisto(outputfile,hist_n_e,\"hist_n_e_log\")\n",
    "\n",
    "savehisto(outputfile,hist_mass_2e2mu,\"hist_2e2mu_InvariantMass\",logy=True)\n",
    "# savehisto(outputfile,hist_mass_2e2mu_Higgs,\"hist_2e2mu_Higgs_InvariantMass\",logy=True)"
   ]
  },
  {
   "attachments": {},
   "cell_type": "markdown",
   "id": "9f7cce68",
   "metadata": {},
   "source": [
    "There are two interesting peaks observed here. One slightly under $100 GeV$ whilst the second is around $125GeV$. \n",
    "\n",
    "The latter corresponds to the Higgs boson. This is in alignment with the scientific litterature on the matter:\n",
    "- $125.38 \\pm 0.14 GeV$ (CMS 2018)\n",
    "- $125.35 \\pm 0.15 GeV$ (CMS 2019)\n",
    "- $124.97 \\pm 0.24 GeV$ (ATLAS 2018)\n",
    "\n",
    "Let us take a look into the first peak and the processes behind it.\n",
    "\n",
    "# Invariant mass for a pair\n",
    "\n",
    "Let us compare how the invariant mass of each pair differ. Based on the result, we zoom in different regions to see how they compare and if the same processes arise."
   ]
  },
  {
   "attachments": {},
   "cell_type": "markdown",
   "id": "2c344363",
   "metadata": {},
   "source": [
    "## 1. Pair of electrons\n",
    "\n",
    "We consider the following relation\n",
    "\\begin{equation}\n",
    "    H^0\\to e^+e^-\n",
    "\\end{equation}\n"
   ]
  },
  {
   "cell_type": "code",
   "execution_count": 5,
   "id": "af56ab7b",
   "metadata": {},
   "outputs": [],
   "source": [
    "#Loop over entries\n",
    "invariant_2e = np.array([])\n",
    "for i in range(0,nentries):\n",
    "    tree.GetEntry(i) # Load entry number i\n",
    "    n_e,n_mu_minus,n_mu_p,n_p = 0,0,0,0   \n",
    "\n",
    "    for lep in range(0,len(tree._lPt)): # Loop over leptons per event\n",
    "        if tree._lpdgId[lep] == 11 and n_e != 1: # Detect if lepton == electron\n",
    "            n_e += 1\n",
    "            Index_e = lep\n",
    "        elif tree._lpdgId[lep] == -11 and n_p != 1: # Detect if lepton == positron\n",
    "            n_p += 1\n",
    "            Index_p = lep\n",
    "        elif tree._lpdgId[lep] == 13 and n_mu_minus != 1: # Detect if lepton == muon-\n",
    "            n_mu_minus += 1\n",
    "            Index_mu_minus = lep\n",
    "        elif tree._lpdgId[lep] == -13 and n_mu_p != 1: # Detect if lepton == muon+\n",
    "            n_mu_p +=1\n",
    "            Index_mu_plus = lep\n",
    "        if (n_e,n_p)== (1,1): # If all sought-after leptons are detected, break out of the loop\n",
    "            invariant_mass = invariantmass2l(tree,Index_e,Index_p)\n",
    "            invariant_2e = np.append(invariant_2e,invariant_mass)\n",
    "            # print(invariant_mass)\n",
    "            hist_mass_2e.Fill(invariant_mass)\n",
    "            hist_mass_2e_zoom.Fill(invariant_mass)\n",
    "            hist_mass_2e_ZoomExtra.Fill(invariant_mass)\n",
    "            # hist_mass_2e_Higgs.Fill(invariant_mass)"
   ]
  },
  {
   "cell_type": "code",
   "execution_count": 6,
   "id": "200e60d5",
   "metadata": {},
   "outputs": [
    {
     "name": "stderr",
     "output_type": "stream",
     "text": [
      "Info in <TCanvas::Print>: pdf file pdfs/hist_2e_InvariantMass.pdf has been created\n",
      "Info in <TCanvas::Print>: pdf file pdfs/hist_2e_InvariantMass_zoom.pdf has been created\n",
      "Info in <TCanvas::Print>: pdf file pdfs/hist_2e_InvariantMass_ZoomExtra.pdf has been created\n"
     ]
    }
   ],
   "source": [
    "savehisto(outputfile,hist_mass_2e,\"hist_2e_InvariantMass\",logy=True)\n",
    "savehisto(outputfile,hist_mass_2e_zoom,\"hist_2e_InvariantMass_zoom\",logy=True)\n",
    "savehisto(outputfile,hist_mass_2e_ZoomExtra,\"hist_2e_InvariantMass_ZoomExtra\",logy=True)\n",
    "# savehisto(outputfile,hist_mass_2e_Higgs,\"hist_2e_Higgs_InvariantMass\",logy=True)"
   ]
  },
  {
   "attachments": {},
   "cell_type": "markdown",
   "id": "5bc42ea4",
   "metadata": {},
   "source": [
    "## 2. Pair of muons\n",
    "\n",
    "We consider the following relation\n",
    "\\begin{equation}\n",
    "    H^0\\to \\mu^+\\mu^-\n",
    "\\end{equation}"
   ]
  },
  {
   "cell_type": "code",
   "execution_count": 7,
   "id": "a1dd525a",
   "metadata": {},
   "outputs": [],
   "source": [
    "#Loop over entries\n",
    "invariant_2m = np.array([])\n",
    "for i in range(0,nentries):\n",
    "    tree.GetEntry(i) # Load entry number i\n",
    "    n_e,n_mu_minus,n_mu_p,n_p = 0,0,0,0   \n",
    "\n",
    "    for lep in range(0,len(tree._lPt)): # Loop over leptons per event\n",
    "        if tree._lpdgId[lep] == 11 and n_e != 1: # Detect if lepton == electron\n",
    "            n_e += 1\n",
    "            Index_e = lep\n",
    "        elif tree._lpdgId[lep] == -11 and n_p != 1: # Detect if lepton == positron\n",
    "            n_p += 1\n",
    "            Index_p = lep\n",
    "        elif tree._lpdgId[lep] == 13 and n_mu_minus != 1: # Detect if lepton == muon-\n",
    "            n_mu_minus += 1\n",
    "            Index_mu_minus = lep\n",
    "        elif tree._lpdgId[lep] == -13 and n_mu_p != 1: # Detect if lepton == muon+\n",
    "            n_mu_p +=1\n",
    "            Index_mu_plus = lep\n",
    "        if (n_mu_minus,n_mu_p)== (1,1): # If all sought-after leptons are detected, break out of the loop\n",
    "            invariant_mass = invariantmass2l(tree,Index_mu_minus,Index_mu_plus)\n",
    "            invariant_2m = np.append(invariant_2m,invariant_mass)\n",
    "            # print(invariant_mass)\n",
    "            hist_mass_2mu.Fill(invariant_mass)\n",
    "            hist_mass_2mu_zoom.Fill(invariant_mass)\n",
    "            hist_mass_2mu_ZoomExtra.Fill(invariant_mass)\n",
    "            # hist_mass_2mu_Higgs.Fill(invariant_mass)"
   ]
  },
  {
   "cell_type": "code",
   "execution_count": 8,
   "id": "e8159c90",
   "metadata": {},
   "outputs": [
    {
     "name": "stderr",
     "output_type": "stream",
     "text": [
      "Info in <TCanvas::Print>: pdf file pdfs/hist_2mu_InvariantMass.pdf has been created\n",
      "Info in <TCanvas::Print>: pdf file pdfs/hist_2mu_InvariantMass_zoom.pdf has been created\n",
      "Info in <TCanvas::Print>: pdf file pdfs/hist_2mu_InvariantMass_ZoomExtra.pdf has been created\n"
     ]
    }
   ],
   "source": [
    "savehisto(outputfile,hist_mass_2mu,\"hist_2mu_InvariantMass\",logy=True)\n",
    "savehisto(outputfile,hist_mass_2mu_zoom,\"hist_2mu_InvariantMass_zoom\",logy=True)\n",
    "savehisto(outputfile,hist_mass_2mu_ZoomExtra,\"hist_2mu_InvariantMass_ZoomExtra\",logy=True)\n",
    "# savehisto(outputfile,hist_mass_2mu_Higgs,\"hist_2mu_Higgs_InvariantMass_ZoomExtra\",logy=True)"
   ]
  },
  {
   "attachments": {},
   "cell_type": "markdown",
   "id": "95338135",
   "metadata": {},
   "source": [
    "# 3. Comparison of the results"
   ]
  },
  {
   "attachments": {},
   "cell_type": "markdown",
   "id": "6646cbe9",
   "metadata": {},
   "source": [
    "Having created and compared different histograms in different regions, let us note the following remarks:\n",
    "\n",
    "- In the $[0,10] Gev$ region, there are no clear peak observed for the $e^+e^-$ pair. This however does not hold true in the muon pair, as a peak appears around $3.25\\pm 2.47 GeV$.\n",
    "- In the $[80,100] Gev$ region, a peak appears for both peaks. The peaks should correspond to the same process, as their invariant mass seems to the same: $90.47\\pm 3.59 Gev$ for the $\\mu^+\\mu^-$ pair and $89.78\\pm 3.72 Gev$ for the electron pair."
   ]
  }
 ],
 "metadata": {
  "kernelspec": {
   "display_name": "Python 3",
   "language": "python",
   "name": "python3"
  },
  "language_info": {
   "codemirror_mode": {
    "name": "ipython",
    "version": 3
   },
   "file_extension": ".py",
   "mimetype": "text/x-python",
   "name": "python",
   "nbconvert_exporter": "python",
   "pygments_lexer": "ipython3",
   "version": "3.10.10"
  },
  "vscode": {
   "interpreter": {
    "hash": "bd385fe162c5ca0c84973b7dd5c518456272446b2b64e67c2a69f949ca7a1754"
   }
  }
 },
 "nbformat": 4,
 "nbformat_minor": 5
}
