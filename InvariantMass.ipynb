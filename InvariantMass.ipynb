{
 "cells": [
  {
   "cell_type": "code",
   "execution_count": 1,
   "id": "frank-tooth",
   "metadata": {},
   "outputs": [
    {
     "name": "stdout",
     "output_type": "stream",
     "text": [
      "Welcome to JupyROOT 6.26/06\n",
      "Number of entries:  104317\n"
     ]
    }
   ],
   "source": [
    "import os,sys, math, ROOT\n",
    "from array import array\n",
    "import numpy as np\n",
    "# %jsroot on\n",
    "\n",
    "#Importing a helper file where some functions are defined\n",
    "from helper import *\n",
    "\n",
    "#Input file\n",
    "inputfile = ROOT.TFile(\"../Data/data.root\",\"READ\")\n",
    "\n",
    "#Output file\n",
    "outputfile = ROOT.TFile(\"output.root\",\"RECREATE\")\n",
    "\n",
    "#Accessing the \"TTree\" from root that contains the data (one entry per event)\n",
    "tree = inputfile.Get(\"ntuplizer/tree\")\n",
    "\n",
    "nentries = tree.GetEntries()\n",
    "print(\"Number of entries: \", nentries)"
   ]
  },
  {
   "attachments": {},
   "cell_type": "markdown",
   "id": "a1f08a0f",
   "metadata": {},
   "source": [
    "The goal of this file is to create and then compare histograms of the invariant masses involved in the\n",
    "\\begin{equation}\n",
    "    H^0\\to l^+l^- + l'^+l'^-\n",
    "\\end{equation}\n",
    "process, where $l$ is taken to be either an electron or a muon."
   ]
  },
  {
   "attachments": {},
   "cell_type": "markdown",
   "id": "0cf6208d",
   "metadata": {},
   "source": [
    "The code snippet underneath defines several `histogram` objects. The name given to those objects follows the following logic:\n",
    "- `hist_mass` for the notion that the histogram will display the invariant mass of system of particles;\n",
    "- `_X` shows the type of particles detected from which we compute an invariant mass\n",
    "- The extra mention of `_zoom` or `_ZoomExtra` concerns the range on which the invariant mass is computed. `_zoom` means one computes and displays the invariant mass in the interval $[80,100] GeV$ whilst `_ZoomExtra` means the displayed interval is $[0,10] GeV$.\n",
    "- Additionnaly, the mention of `_Higgs` means one is trying to truncate the data to display only the process of interest to us: the apparition of the Higgs boson!"
   ]
  },
  {
   "cell_type": "code",
   "execution_count": 2,
   "id": "dietary-expense",
   "metadata": {},
   "outputs": [],
   "source": [
    "# Histograms \n",
    "# The arguments are the following: \n",
    "# \"name\", \"title;x axis title;yaxis title\", nb of bins, min value, max value\n",
    "\n",
    "hist_mass_2e2mu = ROOT.TH1F(\"hist_mass_2e2mu\",\";Four Lepton Invariant Mass [GeV];Events\", 500, 0, 500)\n",
    "hist_mass_2e2mu_b = ROOT.TH1F(\"hist_mass_2e2mu_b\",\";Four Lepton Invariant Mass [GeV];Events\", 500, 0, 500)\n",
    "\n",
    "hist_mass_2e = ROOT.TH1F(\"hist_mass_2e\",\";Electron pair Invariant Mass [GeV];Events\", 500, 0, 500)\n",
    "hist_mass_2mu = ROOT.TH1F(\"hist_mass_2mu\",\";Muon pair Invariant Mass [GeV];Events\", 500, 0, 500)\n",
    "\n",
    "\n",
    "# Zoom in the low mass regions\n",
    "hist_mass_2e2mu_zoom = ROOT.TH1F(\"hist_mass_2e2mu_zoom\",\";Four Lepton Invariant Mass [GeV];Events\", 500, 70, 110)\n",
    "hist_mass_2e2mu_zoom_b = ROOT.TH1F(\"hist_mass_2e2mu_zoom_b\",\";Four Lepton Invariant Mass [GeV];Events\", 500, 80, 100)\n",
    "hist_mass_2e_zoom = ROOT.TH1F(\"hist_mass_2e_zoom\",\";Electron pair Invariant Mass [GeV];Events\", 500, 80, 100)\n",
    "hist_mass_2mu_zoom = ROOT.TH1F(\"hist_mass_2mu_zoom\",\";Muon pair Invariant Mass [GeV];Events\", 500, 80, 100)\n",
    "\n",
    "hist_mass_2e2mu_ZoomExtra = ROOT.TH1F(\"hist_mass_2e2mu_ZoomExtra\",\";Four Lepton Invariant Mass [GeV];Events\", 500, 0, 10)\n",
    "hist_mass_2e_ZoomExtra = ROOT.TH1F(\"hist_mass_2e_ZoomExtra\",\";Muon pair Invariant Mass [GeV];Events\", 300, 0, 10)\n",
    "hist_mass_2mu_ZoomExtra = ROOT.TH1F(\"hist_mass_2mu_ZoomExtra\",\";Muon pair Invariant Mass [GeV];Events\", 500, 0, 10)\n",
    "\n",
    "# Correlation between m(z) and m(z tilde)\n",
    "# The arguments are the following:\n",
    "# \"name\",\"title;x axis title;y axis title\",nb x bins,min x value, max x value, nb y bins, min y value, max y value\n",
    "hist_2Dcorr_real_masses = ROOT.TH2F('hist_2Dcorr_real_masses',\";Mass Z boson [GeV];Mass Z' boson [GeV]\",500,0,500, 100, 10, 200)\n",
    "hist_2Dcorr_z_masses = ROOT.TH2F('hist_2Dcorr_z_masses',\";Mass Z boson [GeV];Mass virtual Z boson [GeV]\",500,0,200, 100, 10, 200)\n",
    "hist_2Dcorr_zreal_4l_masses = ROOT.TH2F('hist_2Dcorr_zreal_4l_masses',\";Four Lepton Invariant Mass [GeV];Mass Z boson [GeV]\",500,0,500, 100, 10, 200)\n",
    "hist_2Dcorr_zvirtual_4l_masses = ROOT.TH2F('hist_2Dcorr_zvirtual_4l_masses',\";Four Lepton Invariant Mass [GeV];Mass virtual Z boson [GeV]\",500,10,500, 100, 10, 200)"
   ]
  },
  {
   "cell_type": "code",
   "execution_count": 3,
   "id": "cutting-section",
   "metadata": {},
   "outputs": [],
   "source": [
    "#Loop over entries\n",
    "#invariant_2e2u = np.array([])\n",
    "for i in range(0,nentries):\n",
    "    tree.GetEntry(i) # Load entry number i\n",
    "    n_e,n_mu_minus,n_mu_p,n_p = 0,0,0,0   \n",
    "    for lep in range(0,len(tree._lPt)): # Loop over leptons per event\n",
    "        if tree._lpdgId[lep] == 11 and n_e != 1: # Detect if lepton == electron\n",
    "            #if tree._lEta[lep] >= 1.566 or tree._lEta[lep] <= 1.4442:\n",
    "            n_e += 1\n",
    "            Index_e = lep\n",
    "        elif tree._lpdgId[lep] == -11 and n_p != 1: # Detect if lepton == positron\n",
    "            #if tree._lEta[lep] >= 1.566 and tree._lEta[lep] <= 1.4442:\n",
    "            n_p += 1\n",
    "            Index_p = lep\n",
    "        elif tree._lpdgId[lep] == 13 and n_mu_minus != 1: # Detect if lepton == muon-\n",
    "            if tree._lEta[lep] < 2.4:\n",
    "                n_mu_minus += 1\n",
    "                Index_mu_minus = lep\n",
    "        elif tree._lpdgId[lep] == -13 and n_mu_p != 1: # Detect if lepton == muon+\n",
    "            if tree._lEta[lep] < 2.4:\n",
    "                n_mu_p +=1\n",
    "                Index_mu_plus = lep\n",
    "\n",
    "        if (n_e,n_p,n_mu_minus,n_mu_p) == (1,1,1,1): # If all sought-after leptons are detected, break out of the loop\n",
    "            invariant_mass = invariantmass4l(tree,Index_e,Index_p,Index_mu_minus,Index_mu_plus)\n",
    "\n",
    "            invariant_mass_e = invariantmass2l(tree,Index_e,Index_p)\n",
    "            invariant_mass_mu = invariantmass2l(tree,Index_mu_minus,Index_mu_plus)\n",
    "\n",
    "            pt_e = tree._lPt[Index_e]\n",
    "            pt_p = tree._lPt[Index_p]\n",
    "            pt_mu_p = tree._lPt[Index_mu_plus]\n",
    "            pt_mu_m = tree._lPt[Index_mu_minus]\n",
    "            \n",
    "            #if all(np.sort([pt_e,pt_p,pt_mu_p,pt_mu_m],kind='mergesort') >= np.array([10,10,10,20])):\n",
    "                \n",
    "            # hist_mass_2e2mu_b.Fill(invariant_mass)\n",
    "            # hist_mass_2e2mu_zoom_b.Fill(invariant_mass)\n",
    "            if invariant_mass_e > 4 and invariant_mass_mu > 4:\n",
    "                m1, m2 =  invariant_mass_e,invariant_mass_mu\n",
    "                if m1-91 < m2-91:\n",
    "                    mreal = m2\n",
    "                    mvirt = m1\n",
    "                else:\n",
    "                    mreal = m1\n",
    "                    mvirt = m2\n",
    "\n",
    "                if mvirt>= 15:\n",
    "                    hist_2Dcorr_real_masses.Fill(m1, m2)\n",
    "                    hist_2Dcorr_z_masses.Fill(mvirt,mreal)\n",
    "                    hist_2Dcorr_zvirtual_4l_masses.Fill(invariant_mass,mvirt)\n",
    "                    hist_2Dcorr_zreal_4l_masses.Fill(invariant_mass,mreal)\n",
    "                    hist_mass_2e2mu.Fill(invariant_mass)\n",
    "                    hist_mass_2e2mu_zoom.Fill(invariant_mass)\n",
    "            # invariant_2e2u = np.append(invariant_2e2u,invariant_mass)\n",
    "            #print(invariant_mass)\n",
    "            # hist_mass_2e2mu_Higgs.Fill(invariant_mass)"
   ]
  },
  {
   "cell_type": "code",
   "execution_count": 4,
   "id": "blocked-benjamin",
   "metadata": {},
   "outputs": [
    {
     "name": "stderr",
     "output_type": "stream",
     "text": [
      "Info in <TCanvas::Print>: pdf file pdfs/hist_2e2mu_InvariantMass.pdf has been created\n",
      "Info in <TCanvas::Print>: pdf file pdfs/hist_2e2mu_InvariantMass_zoom.pdf has been created\n",
      "Info in <TCanvas::Print>: pdf file pdfs/hist_2Dcorr_real_masses.pdf has been created\n",
      "Info in <TCanvas::Print>: pdf file pdfs/hist_2Dcorr_z_masses.pdf has been created\n",
      "Info in <TCanvas::Print>: pdf file pdfs/hist_2Dcorr_zreal_4l_masses.pdf has been created\n",
      "Info in <TCanvas::Print>: pdf file pdfs/hist_2Dcorr_zvirtual_4l_masses.pdf has been created\n"
     ]
    }
   ],
   "source": [
    "#Draw the histogram and the canvas\n",
    "c = ROOT.TCanvas(\"canvas\",\"c_NPV\",600,600)\n",
    "# hist_n_mu.SetLineColor(ROOT.kRed)\n",
    "# hist_n_e.Draw()\n",
    "# hist_n_mu.Draw(\"same\")\n",
    "# hist_npv.Draw()\n",
    "# c.Draw()\n",
    "# savehisto(outputfile, hist_n_mu, \"hist_n_mu_log\")\n",
    "# savehisto(outputfile,hist_n_e,\"hist_n_e_log\")\n",
    "\n",
    "savehisto(outputfile,hist_mass_2e2mu,\"hist_2e2mu_InvariantMass\",logy=True)\n",
    "savehisto(outputfile,hist_mass_2e2mu_zoom,\"hist_2e2mu_InvariantMass_zoom\",logy=True)\n",
    "\n",
    "# savehisto(outputfile,hist_mass_2e2mu_zoom_b,\"hist_2e2mu_InvariantMass_zoom\",extraname=\"_Before\",logy=True)\n",
    "# savehisto(outputfile,hist_mass_2e2mu_b,\"hist_2e2mu_InvariantMass\",extraname=\"_Before\",logy=True)\n",
    "# savehisto(outputfile,hist_mass_2e2mu_Higgs,\"hist_2e2mu_Higgs_InvariantMass\",logy=True)\n",
    "\n",
    "# Correlation 2D plots\n",
    "savehisto(outputfile,hist_2Dcorr_real_masses,\"hist_2Dcorr_real_masses\",logy=True)\n",
    "savehisto(outputfile,hist_2Dcorr_z_masses,\"hist_2Dcorr_z_masses\",logy=True)\n",
    "savehisto(outputfile,hist_2Dcorr_zreal_4l_masses,\"hist_2Dcorr_zreal_4l_masses\",logy=True)\n",
    "savehisto(outputfile,hist_2Dcorr_zvirtual_4l_masses,\"hist_2Dcorr_zvirtual_4l_masses\",logy=True)"
   ]
  },
  {
   "attachments": {},
   "cell_type": "markdown",
   "id": "9f7cce68",
   "metadata": {},
   "source": [
    "There are two interesting peaks observed here. One slightly under $100 GeV$ whilst the second is around $125GeV$. \n",
    "\n",
    "The latter corresponds to the Higgs boson. This is in alignment with the scientific litterature on the matter:\n",
    "- $125.38 \\pm 0.14 GeV$ (CMS 2018)\n",
    "- $125.35 \\pm 0.15 GeV$ (CMS 2019)\n",
    "- $124.97 \\pm 0.24 GeV$ (ATLAS 2018)\n",
    "\n",
    "Let us take a look into the first peak and the processes behind it.\n",
    "\n",
    "# Invariant mass per pair\n",
    "\n",
    "Let us consider the invariant mass for each pair separatly, meaning the invariant mass of the electron pair and the muon pair separatly in\n",
    "\\begin{equation}\n",
    "    H^0\\to e^+e^- + \\mu^+\\mu^-\n",
    "\\end{equation}"
   ]
  },
  {
   "cell_type": "code",
   "execution_count": 5,
   "id": "af56ab7b",
   "metadata": {},
   "outputs": [],
   "source": [
    "#Loop over entries\n",
    "invariant_2e = np.array([])\n",
    "for i in range(0,nentries):\n",
    "    tree.GetEntry(i) # Load entry number i\n",
    "    n_e,n_mu_minus,n_mu_p,n_p = 0,0,0,0   \n",
    "\n",
    "    for lep in range(0,len(tree._lPt)): # Loop over leptons per event\n",
    "        if tree._lpdgId[lep] == 11 and n_e != 1: # Detect if lepton == electron\n",
    "            n_e += 1\n",
    "            Index_e = lep\n",
    "        elif tree._lpdgId[lep] == -11 and n_p != 1: # Detect if lepton == positron\n",
    "            n_p += 1\n",
    "            Index_p = lep\n",
    "        elif tree._lpdgId[lep] == 13 and n_mu_minus != 1: # Detect if lepton == muon-\n",
    "            n_mu_minus += 1\n",
    "            Index_mu_minus = lep\n",
    "        elif tree._lpdgId[lep] == -13 and n_mu_p != 1: # Detect if lepton == muon+\n",
    "            n_mu_p +=1\n",
    "            Index_mu_plus = lep\n",
    "        if (n_e,n_p,n_mu_minus,n_mu_p) == (1,1,1,1): # If all sought-after leptons are detected, break out of the loop\n",
    "            invariant_mass_e = invariantmass2l(tree,Index_e,Index_p)\n",
    "            invariant_mass_mu = invariantmass2l(tree,Index_mu_minus,Index_mu_plus)\n",
    "            if invariant_mass_e>4 and invariant_mass_mu>4:\n",
    "                hist_mass_2e.Fill(invariant_mass_e)\n",
    "                # hist_mass_2e_zoom.Fill(invariant_mass_e)\n",
    "                # hist_mass_2e_ZoomExtra.Fill(invariant_mass_e)\n",
    "                hist_mass_2mu.Fill(invariant_mass_mu)\n",
    "                # hist_mass_2mu_zoom.Fill(invariant_mass_mu)\n",
    "                # hist_mass_2mu_ZoomExtra.Fill(invariant_mass_mu)\n",
    "            # hist_mass_2e_Higgs.Fill(invariant_mass)"
   ]
  },
  {
   "cell_type": "code",
   "execution_count": 6,
   "id": "200e60d5",
   "metadata": {},
   "outputs": [
    {
     "name": "stderr",
     "output_type": "stream",
     "text": [
      "Info in <TCanvas::Print>: pdf file pdfs/hist_2e_InvariantMass.pdf has been created\n",
      "Info in <TCanvas::Print>: pdf file pdfs/hist_2mu_InvariantMass.pdf has been created\n"
     ]
    }
   ],
   "source": [
    "savehisto(outputfile,hist_mass_2e,\"hist_2e_InvariantMass\",logy=True)\n",
    "# savehisto(outputfile,hist_mass_2e_b,\"hist_2e_InvariantMass\",extraname=\"_Before\",logy=True)\n",
    "# savehisto(outputfile,hist_mass_2e_zoom,\"hist_2e_InvariantMass_zoom\",logy=True)\n",
    "# savehisto(outputfile,hist_mass_2e_ZoomExtra,\"hist_2e_InvariantMass_ZoomExtra\",logy=True)\n",
    "\n",
    "savehisto(outputfile,hist_mass_2mu,\"hist_2mu_InvariantMass\",logy=True)\n",
    "# savehisto(outputfile,hist_mass_2e_b,\"hist_2mu_InvariantMass\",extraname=\"_Before\",logy=True)\n",
    "# savehisto(outputfile,hist_mass_2mu_zoom,\"hist_2mu_InvariantMass_zoom\",logy=True)\n",
    "# savehisto(outputfile,hist_mass_2mu_ZoomExtra,\"hist_2mu_InvariantMass_ZoomExtra\",logy=True)\n",
    "# savehisto(outputfile,hist_mass_2e_Higgs,\"hist_2e_Higgs_InvariantMass\",logy=True)\n",
    "\n",
    "#savehisto(hist_corr_2e,hist_corr_2mu,\"hist_2e2mu_Correlation\",logy=True)"
   ]
  },
  {
   "attachments": {},
   "cell_type": "markdown",
   "id": "95338135",
   "metadata": {},
   "source": [
    "# 3. Comparison of the results"
   ]
  },
  {
   "attachments": {},
   "cell_type": "markdown",
   "id": "6646cbe9",
   "metadata": {},
   "source": [
    "Having created and compared different histograms in different regions, let us note the following remarks:\n",
    "\n",
    "- In the $[0,10] Gev$ region, there are no clear peak observed for the $e^+e^-$ pair. This however does not hold true in the muon pair, as a peak appears around $3.25\\pm 2.47 GeV$.\n",
    "- In the $[80,100] Gev$ region, a peak appears for both peaks. The peaks should correspond to the same process, as their invariant mass seems to the same: $90.47\\pm 3.59 Gev$ for the $\\mu^+\\mu^-$ pair and $89.78\\pm 3.72 Gev$ for the electron pair."
   ]
  }
 ],
 "metadata": {
  "kernelspec": {
   "display_name": "Python 3",
   "language": "python",
   "name": "python3"
  },
  "language_info": {
   "codemirror_mode": {
    "name": "ipython",
    "version": 3
   },
   "file_extension": ".py",
   "mimetype": "text/x-python",
   "name": "python",
   "nbconvert_exporter": "python",
   "pygments_lexer": "ipython3",
   "version": "3.10.10"
  },
  "vscode": {
   "interpreter": {
    "hash": "bd385fe162c5ca0c84973b7dd5c518456272446b2b64e67c2a69f949ca7a1754"
   }
  }
 },
 "nbformat": 4,
 "nbformat_minor": 5
}
