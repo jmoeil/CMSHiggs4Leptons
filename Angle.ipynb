{
 "cells": [
  {
   "cell_type": "code",
   "execution_count": 1,
   "metadata": {},
   "outputs": [
    {
     "name": "stdout",
     "output_type": "stream",
     "text": [
      "Welcome to JupyROOT 6.26/06\n",
      "Number of entries:  104317\n"
     ]
    }
   ],
   "source": [
    "import os,sys, math, ROOT\n",
    "from array import array\n",
    "import numpy as np\n",
    "# %jsroot on\n",
    "\n",
    "#Importing a helper file where some functions are defined\n",
    "from helper import *\n",
    "\n",
    "#Input file\n",
    "inputfile = ROOT.TFile(\"../Data/data.root\",\"READ\")\n",
    "\n",
    "#Output file\n",
    "outputfile = ROOT.TFile(\"output.root\",\"RECREATE\")\n",
    "\n",
    "#Accessing the \"TTree\" from root that contains the data (one entry per event)\n",
    "tree = inputfile.Get(\"ntuplizer/tree\")\n",
    "\n",
    "nentries = tree.GetEntries()\n",
    "print(\"Number of entries: \", nentries)"
   ]
  },
  {
   "cell_type": "code",
   "execution_count": 2,
   "metadata": {},
   "outputs": [
    {
     "name": "stderr",
     "output_type": "stream",
     "text": [
      "Warning in <TFile::Append>: Replacing existing TH1: hist_angle_2mu (Potential memory leak).\n"
     ]
    }
   ],
   "source": [
    "hist_angle_2e = ROOT.TH1F(\"hist_angle_2e\",\";Pseudo-rapidity of the electron [rad];Events\", 500, 0, 3)\n",
    "hist_angle_p = ROOT.TH1F(\"hist_angle_p\",\";Pseudo-rapidity of the positron [rad];Events\", 500, 0, 500)\n",
    "\n",
    "hist_angle_2mu = ROOT.TH1F(\"hist_angle_2mu\",\";Pseudo-rapidity of the muon- [rad];Events\", 500, 0, 3)\n",
    "hist_angle_2mu_p = ROOT.TH1F(\"hist_angle_2mu\",\";Pseudo-rapidity of the muon+ [rad];Events\", 500, 0, 500)"
   ]
  },
  {
   "cell_type": "code",
   "execution_count": 3,
   "metadata": {},
   "outputs": [],
   "source": [
    "#Loop over entries\n",
    "#invariant_2e2u = np.array([])\n",
    "for i in range(0,nentries):\n",
    "    tree.GetEntry(i) # Load entry number i\n",
    "    n_e,n_mu_minus,n_mu_p,n_p = 0,0,0,0   \n",
    "\n",
    "    for lep in range(0,len(tree._lPt)): # Loop over leptons per event\n",
    "        if tree._lpdgId[lep] == 11 and n_e != 1: # Detect if lepton == electron\n",
    "            n_e += 1\n",
    "            Index_e = lep\n",
    "        elif tree._lpdgId[lep] == -11 and n_p != 1: # Detect if lepton == positron\n",
    "            n_p += 1\n",
    "            Index_p = lep\n",
    "        elif tree._lpdgId[lep] == 13 and n_mu_minus != 1: # Detect if lepton == muon-\n",
    "            n_mu_minus += 1\n",
    "            Index_mu_minus = lep\n",
    "        elif tree._lpdgId[lep] == -13 and n_mu_p != 1: # Detect if lepton == muon+\n",
    "            n_mu_p +=1\n",
    "            Index_mu_plus = lep\n",
    "\n",
    "        if (n_e,n_p,n_mu_minus,n_mu_p) == (1,1,1,1): # If all sought-after leptons are detected, break out of the loop\n",
    "            invariant_mass = invariantmass4l(tree,Index_e,Index_p,Index_mu_minus,Index_mu_plus)\n",
    "\n",
    "            invariant_mass_e = invariantmass2l(tree,Index_e,Index_p)\n",
    "            invariant_mass_mu = invariantmass2l(tree,Index_mu_minus,Index_mu_plus)\n",
    "\n",
    "            if invariant_mass_e > 4 and invariant_mass_mu > 4:\n",
    "                eta_e = tree._lEta[Index_e]\n",
    "                eta_p = tree._lEta[Index_p]\n",
    "                eta_mu_p = tree._lEta[Index_mu_plus]\n",
    "                eta_mu_m = tree._lEta[Index_mu_minus]\n",
    "\n",
    "                hist_angle_2e.Fill(eta_e)\n",
    "                hist_angle_2e.Fill(eta_p)\n",
    "                hist_angle_2mu.Fill(eta_mu_m)\n",
    "                hist_angle_2mu.Fill(eta_mu_p)"
   ]
  },
  {
   "cell_type": "code",
   "execution_count": 4,
   "metadata": {},
   "outputs": [
    {
     "name": "stderr",
     "output_type": "stream",
     "text": [
      "Info in <TCanvas::Print>: pdf file pdfs/hist_angle_2e.pdf has been created\n",
      "Info in <TCanvas::Print>: pdf file pdfs/hist_angle_2mu.pdf has been created\n"
     ]
    }
   ],
   "source": [
    "c = ROOT.TCanvas(\"canvas\",\"c_NPV\",600,600)\n",
    "\n",
    "savehisto(outputfile,hist_angle_2e,\"hist_angle_2e\",logy=True)\n",
    "savehisto(outputfile,hist_angle_2mu,\"hist_angle_2mu\",logy=True)"
   ]
  },
  {
   "cell_type": "code",
   "execution_count": 13,
   "metadata": {},
   "outputs": [
    {
     "data": {
      "text/plain": [
       "array([1.4442    , 1.44668571, 1.44917143, 1.45165714, 1.45414286,\n",
       "       1.45662857, 1.45911429, 1.4616    , 1.46408571, 1.46657143,\n",
       "       1.46905714, 1.47154286, 1.47402857, 1.47651429, 1.479     ,\n",
       "       1.48148571, 1.48397143, 1.48645714, 1.48894286, 1.49142857,\n",
       "       1.49391429, 1.4964    , 1.49888571, 1.50137143, 1.50385714,\n",
       "       1.50634286, 1.50882857, 1.51131429, 1.5138    , 1.51628571,\n",
       "       1.51877143, 1.52125714, 1.52374286, 1.52622857, 1.52871429,\n",
       "       1.5312    , 1.53368571, 1.53617143, 1.53865714, 1.54114286,\n",
       "       1.54362857, 1.54611429, 1.5486    , 1.55108571, 1.55357143,\n",
       "       1.55605714, 1.55854286, 1.56102857, 1.56351429, 1.566     ])"
      ]
     },
     "execution_count": 13,
     "metadata": {},
     "output_type": "execute_result"
    }
   ],
   "source": [
    "if 1.43 in (1.566)"
   ]
  }
 ],
 "metadata": {
  "kernelspec": {
   "display_name": "Python 3",
   "language": "python",
   "name": "python3"
  },
  "language_info": {
   "codemirror_mode": {
    "name": "ipython",
    "version": 3
   },
   "file_extension": ".py",
   "mimetype": "text/x-python",
   "name": "python",
   "nbconvert_exporter": "python",
   "pygments_lexer": "ipython3",
   "version": "3.10.10"
  },
  "orig_nbformat": 4,
  "vscode": {
   "interpreter": {
    "hash": "bd385fe162c5ca0c84973b7dd5c518456272446b2b64e67c2a69f949ca7a1754"
   }
  }
 },
 "nbformat": 4,
 "nbformat_minor": 2
}
