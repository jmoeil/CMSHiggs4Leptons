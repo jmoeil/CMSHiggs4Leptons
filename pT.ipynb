{
 "cells": [
  {
   "cell_type": "code",
   "execution_count": 1,
   "metadata": {},
   "outputs": [
    {
     "name": "stdout",
     "output_type": "stream",
     "text": [
      "Welcome to JupyROOT 6.26/06\n",
      "Number of entries:  104317\n"
     ]
    }
   ],
   "source": [
    "import os,sys, math, ROOT\n",
    "from array import array\n",
    "import numpy as np\n",
    "# %jsroot on\n",
    "\n",
    "#Importing a helper file where some functions are defined\n",
    "from helper import *\n",
    "\n",
    "#Input file\n",
    "inputfile = ROOT.TFile(\"../Data/data.root\",\"READ\")\n",
    "\n",
    "#Output file\n",
    "outputfile = ROOT.TFile(\"output.root\",\"RECREATE\")\n",
    "\n",
    "#Accessing the \"TTree\" from root that contains the data (one entry per event)\n",
    "tree = inputfile.Get(\"ntuplizer/tree\")\n",
    "\n",
    "nentries = tree.GetEntries()\n",
    "print(\"Number of entries: \", nentries)"
   ]
  },
  {
   "cell_type": "code",
   "execution_count": 2,
   "metadata": {},
   "outputs": [],
   "source": [
    "hist_pT_2e = ROOT.TH1F(\"hist_pT_e\",\";Transverse momentum for the electron pair [GeV];Events\", 500, 0, 340)\n",
    "hist_pT_2m = ROOT.TH1F(\"hist_pT_m\",\";Transverse momentum for the muon pair [GeV];Events\", 500, 0, 340)"
   ]
  },
  {
   "cell_type": "code",
   "execution_count": 3,
   "metadata": {},
   "outputs": [],
   "source": [
    "#Loop over entries\n",
    "#invariant_2e2u = np.array([])\n",
    "for i in range(0,nentries):\n",
    "    tree.GetEntry(i) # Load entry number i\n",
    "    n_e,n_mu_minus,n_mu_p,n_p = 0,0,0,0   \n",
    "\n",
    "    for lep in range(0,len(tree._lPt)): # Loop over leptons per event\n",
    "        if tree._lpdgId[lep] == 11 and n_e != 1: # Detect if lepton == electron\n",
    "            n_e += 1\n",
    "            Index_e = lep\n",
    "        elif tree._lpdgId[lep] == -11 and n_p != 1: # Detect if lepton == positron\n",
    "            n_p += 1\n",
    "            Index_p = lep\n",
    "        elif tree._lpdgId[lep] == 13 and n_mu_minus != 1: # Detect if lepton == muon-\n",
    "            n_mu_minus += 1\n",
    "            Index_mu_minus = lep\n",
    "        elif tree._lpdgId[lep] == -13 and n_mu_p != 1: # Detect if lepton == muon+\n",
    "            n_mu_p +=1\n",
    "            Index_mu_plus = lep\n",
    "\n",
    "        if (n_e,n_p,n_mu_minus,n_mu_p) == (1,1,1,1): # If all sought-after leptons are detected, break out of the loop\n",
    "            invariant_mass = invariantmass4l(tree,Index_e,Index_p,Index_mu_minus,Index_mu_plus)\n",
    "\n",
    "            invariant_mass_e = invariantmass2l(tree,Index_e,Index_p)\n",
    "            invariant_mass_mu = invariantmass2l(tree,Index_mu_minus,Index_mu_plus)\n",
    "\n",
    "            if invariant_mass_e > 4 and invariant_mass_mu > 4:\n",
    "                pT_e = tree._lPt[Index_e]\n",
    "                pT_p = tree._lPt[Index_p]\n",
    "                pT_mu_p = tree._lPt[Index_mu_plus]\n",
    "                pT_mu_m = tree._lPt[Index_mu_minus]\n",
    "\n",
    "                hist_pT_2e.Fill(pT_e)\n",
    "                hist_pT_2e.Fill(pT_p)\n",
    "                hist_pT_2m.Fill(pT_mu_m)\n",
    "                hist_pT_2m.Fill(pT_mu_p)"
   ]
  },
  {
   "cell_type": "code",
   "execution_count": 4,
   "metadata": {},
   "outputs": [
    {
     "name": "stderr",
     "output_type": "stream",
     "text": [
      "Info in <TCanvas::Print>: pdf file pdfs/hist_pT_2e.pdf has been created\n",
      "Info in <TCanvas::Print>: pdf file pdfs/hist_pT_2m.pdf has been created\n"
     ]
    }
   ],
   "source": [
    "savehisto(outputfile,hist_pT_2e,\"hist_pT_2e\",logy=True)\n",
    "savehisto(outputfile,hist_pT_2m,\"hist_pT_2m\",logy=True)"
   ]
  }
 ],
 "metadata": {
  "kernelspec": {
   "display_name": "Python 3",
   "language": "python",
   "name": "python3"
  },
  "language_info": {
   "codemirror_mode": {
    "name": "ipython",
    "version": 3
   },
   "file_extension": ".py",
   "mimetype": "text/x-python",
   "name": "python",
   "nbconvert_exporter": "python",
   "pygments_lexer": "ipython3",
   "version": "3.10.10"
  },
  "orig_nbformat": 4,
  "vscode": {
   "interpreter": {
    "hash": "bd385fe162c5ca0c84973b7dd5c518456272446b2b64e67c2a69f949ca7a1754"
   }
  }
 },
 "nbformat": 4,
 "nbformat_minor": 2
}
