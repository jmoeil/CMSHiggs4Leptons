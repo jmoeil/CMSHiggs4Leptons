{
 "cells": [
  {
   "cell_type": "code",
   "execution_count": 14,
   "id": "frank-tooth",
   "metadata": {},
   "outputs": [
    {
     "name": "stdout",
     "output_type": "stream",
     "text": [
      "Number of entries:  104317\n"
     ]
    }
   ],
   "source": [
    "import os,sys, math, ROOT\n",
    "from array import array\n",
    "import numpy as np\n",
    "# %jsroot on\n",
    "\n",
    "#Importing a helper file where some functions are defined\n",
    "from helper import *\n",
    "\n",
    "#Input file\n",
    "inputfile = ROOT.TFile(\"../Data/data.root\",\"READ\")\n",
    "\n",
    "#Output file\n",
    "outputfile = ROOT.TFile(\"output.root\",\"RECREATE\")\n",
    "\n",
    "#Accessing the \"TTree\" from root that contains the data (one entry per event)\n",
    "tree = inputfile.Get(\"ntuplizer/tree\")\n",
    "\n",
    "nentries = tree.GetEntries()\n",
    "print(\"Number of entries: \", nentries)"
   ]
  },
  {
   "cell_type": "code",
   "execution_count": 15,
   "id": "dietary-expense",
   "metadata": {},
   "outputs": [],
   "source": [
    "#Example of histograms \n",
    "#The arguments are the following: \n",
    "#\"name\", \"title;x axis title;yaxis title\", nb of bins, min value, max value\n",
    "\n",
    "# hist_npv = ROOT.TH1F(\"hist_NPV\", \"NPV;Number of reconstructed vertices;Events\", 100, 0, 100)\n",
    "hist_n_e = ROOT.TH1F(\"hist_n_e\",  \";Number of electrons detected;Events\", 10, 0, 10)\n",
    "hist_n_mu = ROOT.TH1F(\"hist_n_mu\",\";Number of muons dectected;Events\", 10, 0, 10)"
   ]
  },
  {
   "cell_type": "code",
   "execution_count": 16,
   "id": "cutting-section",
   "metadata": {},
   "outputs": [
    {
     "data": {
      "text/plain": [
       "(4471379397, 144330)"
      ]
     },
     "execution_count": 16,
     "metadata": {},
     "output_type": "execute_result"
    }
   ],
   "source": [
    "#Loop over entries\n",
    "n_e,n_mu_minus,n_mu_p,n_p = 0,0,0,0\n",
    "for i in range(0,nentries):\n",
    "    tree.GetEntry(i) # Load entry number i   \n",
    "\n",
    "    for lep in range(0,len(tree._lPt)): # Loop over leptons per event\n",
    "        if tree._lpdgId[lep] == 11: # Detect if lepton == electron\n",
    "            n_e += 1\n",
    "        elif tree._lpdgId[lep] == -11: # Detect if lepton == positron\n",
    "            n_p += 1\n",
    "        elif tree._lpdgId[lep] == 1: # Detect if lepton == muon-\n",
    "            n_mu_minus += 1\n",
    "        elif tree._lpdgId[lep] == -13: # Detect if lepton == muon+\n",
    "            n_mu_p +=1\n",
    "    n_mu = n_mu_p+n_mu_minus\n",
    "    n_e = n_e + n_p\n",
    "    hist_n_mu.Fill(n_mu)\n",
    "    hist_n_e.Fill(n_e)\n",
    "        # if i%1000: # Every 1000th entry, print some info\n",
    "        #     print(\"Event number\",i,\"\\nNb of reconstructed vertices: \",tree._n_PV)\n",
    "        #     print(\"Lepton number\",lep,\n",
    "        #     \"# e:\", '%.3f'%n_e,\",\",\n",
    "        #     \"# p:\", '%.3f'%n_p,\",\",\n",
    "        #     \"# mu -:\",'%.3f'%n_mu_minus,\",\"\n",
    "        #     \"# mu +:\",n_mu_p) # pdgid: e-=11,e+=-11,mu-=13 & mu+=-13\n",
    "\n",
    "n_e,n_mu"
   ]
  },
  {
   "cell_type": "code",
   "execution_count": 23,
   "id": "blocked-benjamin",
   "metadata": {},
   "outputs": [
    {
     "name": "stderr",
     "output_type": "stream",
     "text": [
      "Warning in <TCanvas::Constructor>: Deleting canvas with same name: canvas\n",
      "Info in <TCanvas::Print>: pdf file pdfs/hist_n_mu_log_nolog.pdf has been created\n",
      "Info in <TCanvas::Print>: pdf file pdfs/hist_n_e_log_nolog.pdf has been created\n"
     ]
    }
   ],
   "source": [
    "#Draw the histogram and the canvas\n",
    "c = ROOT.TCanvas(\"canvas\",\"c_NPV\",600,600)\n",
    "\n",
    "# hist_n_mu.SetLineColor(ROOT.kRed)\n",
    "# hist_n_e.Draw()\n",
    "# hist_n_mu.Draw(\"same\")\n",
    "# hist_npv.Draw()\n",
    "# c.Draw()\n",
    "\n",
    "savehisto(outputfile, hist_n_mu, \"hist_n_mu_log\")\n",
    "savehisto(outputfile,hist_n_e,\"hist_n_e_log\")"
   ]
  },
  {
   "attachments": {},
   "cell_type": "markdown",
   "id": "9f7cce68",
   "metadata": {},
   "source": [
    "For the duration of the internship, we shall only consider events involving 2 electrons and 2 muons. Hence, let us apply a filter and select only events for which there are at lea"
   ]
  }
 ],
 "metadata": {
  "kernelspec": {
   "display_name": "Python 3",
   "language": "python",
   "name": "python3"
  },
  "language_info": {
   "codemirror_mode": {
    "name": "ipython",
    "version": 3
   },
   "file_extension": ".py",
   "mimetype": "text/x-python",
   "name": "python",
   "nbconvert_exporter": "python",
   "pygments_lexer": "ipython3",
   "version": "3.10.10"
  },
  "vscode": {
   "interpreter": {
    "hash": "bd385fe162c5ca0c84973b7dd5c518456272446b2b64e67c2a69f949ca7a1754"
   }
  }
 },
 "nbformat": 4,
 "nbformat_minor": 5
}
